{
 "metadata": {
  "language_info": {
   "codemirror_mode": {
    "name": "ipython",
    "version": 3
   },
   "file_extension": ".py",
   "mimetype": "text/x-python",
   "name": "python",
   "nbconvert_exporter": "python",
   "pygments_lexer": "ipython3",
   "version": "3.9.2"
  },
  "orig_nbformat": 2,
  "kernelspec": {
   "name": "python392jvsc74a57bd065e02f4f3bc53601ea42cb3efcc9d2a4991a38e4f8aed9bfaf3032fd24380eec",
   "display_name": "Python 3.9.2 64-bit"
  },
  "metadata": {
   "interpreter": {
    "hash": "65e02f4f3bc53601ea42cb3efcc9d2a4991a38e4f8aed9bfaf3032fd24380eec"
   }
  }
 },
 "nbformat": 4,
 "nbformat_minor": 2,
 "cells": [
  {
   "source": [
    "# Create CSV test\n"
   ],
   "cell_type": "markdown",
   "metadata": {}
  },
  {
   "cell_type": "code",
   "execution_count": 1,
   "metadata": {
    "tags": []
   },
   "outputs": [],
   "source": [
    "from typing import Generator\n",
    "\n",
    "# CREATE LINES\n",
    "\n",
    "lines: Generator = (\n",
    "    '\\t'.join([f'{it}' for it in range(0, 30)])\n",
    "    for _ in range(0, 100)\n",
    ")\n",
    "#print(*lines)"
   ]
  },
  {
   "cell_type": "code",
   "execution_count": 2,
   "metadata": {},
   "outputs": [],
   "source": [
    "# CREATE CSV\n",
    "with open('test.csv', 'w') as f:\n",
    "    f.write('\\n'.join(lines))\n",
    "f.close\n",
    "del lines, f"
   ]
  },
  {
   "cell_type": "code",
   "execution_count": 3,
   "metadata": {
    "tags": []
   },
   "outputs": [],
   "source": [
    "with open('test.csv', 'r') as f:\n",
    "    reader = f.readlines()\n",
    "#print(f\"{type(reader)= }\\t{len(reader)= }\")\n",
    "#print(f\"{reader= }\")\n",
    "f.close()"
   ]
  },
  {
   "cell_type": "code",
   "execution_count": null,
   "metadata": {},
   "outputs": [],
   "source": []
  }
 ]
}