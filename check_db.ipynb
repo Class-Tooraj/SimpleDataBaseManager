{
 "metadata": {
  "language_info": {
   "codemirror_mode": {
    "name": "ipython",
    "version": 3
   },
   "file_extension": ".py",
   "mimetype": "text/x-python",
   "name": "python",
   "nbconvert_exporter": "python",
   "pygments_lexer": "ipython3",
   "version": "3.9.2"
  },
  "orig_nbformat": 2,
  "kernelspec": {
   "name": "python392jvsc74a57bd065e02f4f3bc53601ea42cb3efcc9d2a4991a38e4f8aed9bfaf3032fd24380eec",
   "display_name": "Python 3.9.2 64-bit"
  },
  "metadata": {
   "interpreter": {
    "hash": "65e02f4f3bc53601ea42cb3efcc9d2a4991a38e4f8aed9bfaf3032fd24380eec"
   }
  }
 },
 "nbformat": 4,
 "nbformat_minor": 2,
 "cells": [
  {
   "cell_type": "code",
   "execution_count": 6,
   "metadata": {},
   "outputs": [
    {
     "output_type": "stream",
     "name": "stdout",
     "text": [
      "repr(conn) ='<sqlite3.Connection object at 0x0000024D47F144E0>'\n"
     ]
    }
   ],
   "source": [
    "import sqlite3\n",
    "\n",
    "conn = sqlite3.connect(\"newLange.db\")\n",
    "print(f\"{repr(conn) =}\")"
   ]
  },
  {
   "cell_type": "code",
   "execution_count": 7,
   "metadata": {},
   "outputs": [
    {
     "output_type": "stream",
     "name": "stdout",
     "text": [
      "tuple(getTable)[0][-1]= 'CREATE TABLE LANGUAGE (HID TEXT PRIMARY KEY,KID TEXT,Name TEXT,Pattern TEXT,Writer TEXT,Version REAL,RealeseDate TEXT,UpdateDate TEXT)'\n"
     ]
    }
   ],
   "source": [
    "script_get_tables: str = \"SELECT * FROM sqlite_master WHERE type = 'table' AND name NOT LIKE 'sqlite_%';\"\n",
    "getTable = conn.execute(script_get_tables)\n",
    "print(f\"{tuple(getTable)[0][-1]= }\")"
   ]
  },
  {
   "cell_type": "code",
   "execution_count": 10,
   "metadata": {},
   "outputs": [
    {
     "output_type": "stream",
     "name": "stdout",
     "text": [
      "getVal= <sqlite3.Cursor object at 0x0000024D47D59D50> --\n"
     ]
    }
   ],
   "source": [
    "script_get_tables: str = \"SELECT * FROM 'LANGUAGE';\"\n",
    "getVal = conn.execute(script_get_tables)\n",
    "print(f\"{getVal= }\", *getVal, '--')"
   ]
  },
  {
   "cell_type": "code",
   "execution_count": null,
   "metadata": {},
   "outputs": [],
   "source": []
  }
 ]
}