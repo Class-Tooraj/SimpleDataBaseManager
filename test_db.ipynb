{
 "metadata": {
  "language_info": {
   "codemirror_mode": {
    "name": "ipython",
    "version": 3
   },
   "file_extension": ".py",
   "mimetype": "text/x-python",
   "name": "python",
   "nbconvert_exporter": "python",
   "pygments_lexer": "ipython3",
   "version": "3.9.2"
  },
  "orig_nbformat": 2,
  "kernelspec": {
   "name": "python392jvsc74a57bd065e02f4f3bc53601ea42cb3efcc9d2a4991a38e4f8aed9bfaf3032fd24380eec",
   "display_name": "Python 3.9.2 64-bit"
  },
  "metadata": {
   "interpreter": {
    "hash": "65e02f4f3bc53601ea42cb3efcc9d2a4991a38e4f8aed9bfaf3032fd24380eec"
   }
  }
 },
 "nbformat": 4,
 "nbformat_minor": 2,
 "cells": [
  {
   "cell_type": "code",
   "execution_count": 2,
   "metadata": {},
   "outputs": [
    {
     "output_type": "execute_result",
     "data": {
      "text/plain": [
       "<sqlite3.Cursor at 0x139bd5e77a0>"
      ]
     },
     "metadata": {},
     "execution_count": 2
    }
   ],
   "source": [
    "import sqlite3\n",
    "\n",
    "conn = sqlite3.connect(\"DataBase Manager/gui/test.db\")\n",
    "script = \"CREATE TABLE IF NOT EXISTS User(id INTEGER PRIMERY KEY, name TEXT)\"\n",
    "conn.execute(script)"
   ]
  },
  {
   "cell_type": "code",
   "execution_count": 4,
   "metadata": {},
   "outputs": [
    {
     "output_type": "execute_result",
     "data": {
      "text/plain": [
       "<sqlite3.Cursor at 0x1667b8698f0>"
      ]
     },
     "metadata": {},
     "execution_count": 4
    }
   ],
   "source": [
    "script = \"INSERT INTO User(id, name) VALUES (?,?)\"\n",
    "conn.execute(script, (1, \"Tooraj\"))\n",
    "conn.execute(script, (2, \"TOORAJ\"))\n",
    "conn.execute(script, (3, \"Tootoo\"))"
   ]
  },
  {
   "cell_type": "code",
   "execution_count": 5,
   "metadata": {},
   "outputs": [
    {
     "output_type": "stream",
     "name": "stdout",
     "text": [
      "(1, 'Tooraj') (2, 'TOORAJ') (3, 'Tootoo')\n"
     ]
    }
   ],
   "source": [
    "script = \"SELECT * FROM User\"\n",
    "get = conn.execute(script).fetchall()\n",
    "print(*get)"
   ]
  },
  {
   "cell_type": "code",
   "execution_count": 3,
   "metadata": {},
   "outputs": [
    {
     "output_type": "execute_result",
     "data": {
      "text/plain": [
       "<sqlite3.Cursor at 0x139bd655c00>"
      ]
     },
     "metadata": {},
     "execution_count": 3
    }
   ],
   "source": [
    "script = \"CREATE TABLE IF NOT EXISTS Magic(id INTEGER PRIMERY KEY, name TEXT)\"\n",
    "conn.execute(script)"
   ]
  },
  {
   "cell_type": "code",
   "execution_count": 4,
   "metadata": {},
   "outputs": [
    {
     "output_type": "execute_result",
     "data": {
      "text/plain": [
       "<sqlite3.Cursor at 0x139bd5e7570>"
      ]
     },
     "metadata": {},
     "execution_count": 4
    }
   ],
   "source": [
    "script = \"INSERT INTO Magic(id, name) VALUES (?,?)\"\n",
    "conn.execute(script, (1, \"Tooraj\"))\n",
    "conn.execute(script, (2, \"TOORAJ\"))\n",
    "conn.execute(script, (3, \"Tootoo\"))"
   ]
  },
  {
   "cell_type": "code",
   "execution_count": 5,
   "metadata": {},
   "outputs": [
    {
     "output_type": "stream",
     "name": "stdout",
     "text": [
      "(1, 'Tooraj') (2, 'TOORAJ') (3, 'Tootoo')\n"
     ]
    }
   ],
   "source": [
    "script = \"SELECT * FROM Magic\"\n",
    "get = conn.execute(script).fetchall()\n",
    "print(*get)"
   ]
  },
  {
   "cell_type": "code",
   "execution_count": null,
   "metadata": {},
   "outputs": [],
   "source": []
  }
 ]
}